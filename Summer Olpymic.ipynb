{
 "cells": [
  {
   "cell_type": "markdown",
   "id": "076b42c7-8a0d-4ee4-af3f-adbaaa546209",
   "metadata": {},
   "source": [
    "# Summer Olympic Analysis"
   ]
  },
  {
   "cell_type": "code",
   "execution_count": 29,
   "id": "8f02c6c5-7a17-48ab-b8f2-7e2bf769c24a",
   "metadata": {},
   "outputs": [],
   "source": [
    "import numpy as np \n",
    "import pandas as pd \n",
    "import matplotlib.pyplot as plt"
   ]
  },
  {
   "cell_type": "markdown",
   "id": "7661c913-9832-4e43-8a0b-9989625e74ea",
   "metadata": {},
   "source": [
    "### Loading Data"
   ]
  },
  {
   "cell_type": "code",
   "execution_count": 30,
   "id": "476bdc08-1a39-4090-974f-5cc858e8eb97",
   "metadata": {},
   "outputs": [
    {
     "data": {
      "text/html": [
       "<div>\n",
       "<style scoped>\n",
       "    .dataframe tbody tr th:only-of-type {\n",
       "        vertical-align: middle;\n",
       "    }\n",
       "\n",
       "    .dataframe tbody tr th {\n",
       "        vertical-align: top;\n",
       "    }\n",
       "\n",
       "    .dataframe thead th {\n",
       "        text-align: right;\n",
       "    }\n",
       "</style>\n",
       "<table border=\"1\" class=\"dataframe\">\n",
       "  <thead>\n",
       "    <tr style=\"text-align: right;\">\n",
       "      <th></th>\n",
       "      <th>City</th>\n",
       "      <th>Year</th>\n",
       "      <th>Sport</th>\n",
       "      <th>Discipline</th>\n",
       "      <th>Event</th>\n",
       "      <th>Athlete</th>\n",
       "      <th>Gender</th>\n",
       "      <th>Country_Code</th>\n",
       "      <th>Country</th>\n",
       "      <th>Event_gender</th>\n",
       "      <th>Medal</th>\n",
       "    </tr>\n",
       "  </thead>\n",
       "  <tbody>\n",
       "    <tr>\n",
       "      <th>0</th>\n",
       "      <td>Montreal</td>\n",
       "      <td>1976.0</td>\n",
       "      <td>Aquatics</td>\n",
       "      <td>Diving</td>\n",
       "      <td>3m springboard</td>\n",
       "      <td>KÖHLER, Christa</td>\n",
       "      <td>Women</td>\n",
       "      <td>GDR</td>\n",
       "      <td>East Germany</td>\n",
       "      <td>W</td>\n",
       "      <td>Silver</td>\n",
       "    </tr>\n",
       "    <tr>\n",
       "      <th>1</th>\n",
       "      <td>Montreal</td>\n",
       "      <td>1976.0</td>\n",
       "      <td>Aquatics</td>\n",
       "      <td>Diving</td>\n",
       "      <td>3m springboard</td>\n",
       "      <td>KOSENKOV, Aleksandr</td>\n",
       "      <td>Men</td>\n",
       "      <td>URS</td>\n",
       "      <td>Soviet Union</td>\n",
       "      <td>M</td>\n",
       "      <td>Bronze</td>\n",
       "    </tr>\n",
       "    <tr>\n",
       "      <th>2</th>\n",
       "      <td>Montreal</td>\n",
       "      <td>1976.0</td>\n",
       "      <td>Aquatics</td>\n",
       "      <td>Diving</td>\n",
       "      <td>3m springboard</td>\n",
       "      <td>BOGGS, Philip George</td>\n",
       "      <td>Men</td>\n",
       "      <td>USA</td>\n",
       "      <td>United States</td>\n",
       "      <td>M</td>\n",
       "      <td>Gold</td>\n",
       "    </tr>\n",
       "    <tr>\n",
       "      <th>3</th>\n",
       "      <td>Montreal</td>\n",
       "      <td>1976.0</td>\n",
       "      <td>Aquatics</td>\n",
       "      <td>Diving</td>\n",
       "      <td>3m springboard</td>\n",
       "      <td>CAGNOTTO, Giorgio Franco</td>\n",
       "      <td>Men</td>\n",
       "      <td>ITA</td>\n",
       "      <td>Italy</td>\n",
       "      <td>M</td>\n",
       "      <td>Silver</td>\n",
       "    </tr>\n",
       "    <tr>\n",
       "      <th>4</th>\n",
       "      <td>Montreal</td>\n",
       "      <td>1976.0</td>\n",
       "      <td>Aquatics</td>\n",
       "      <td>Diving</td>\n",
       "      <td>10m platform</td>\n",
       "      <td>WILSON, Deborah Keplar</td>\n",
       "      <td>Women</td>\n",
       "      <td>USA</td>\n",
       "      <td>United States</td>\n",
       "      <td>W</td>\n",
       "      <td>Bronze</td>\n",
       "    </tr>\n",
       "    <tr>\n",
       "      <th>...</th>\n",
       "      <td>...</td>\n",
       "      <td>...</td>\n",
       "      <td>...</td>\n",
       "      <td>...</td>\n",
       "      <td>...</td>\n",
       "      <td>...</td>\n",
       "      <td>...</td>\n",
       "      <td>...</td>\n",
       "      <td>...</td>\n",
       "      <td>...</td>\n",
       "      <td>...</td>\n",
       "    </tr>\n",
       "    <tr>\n",
       "      <th>15428</th>\n",
       "      <td>Beijing</td>\n",
       "      <td>2008.0</td>\n",
       "      <td>Wrestling</td>\n",
       "      <td>Wrestling Gre-R</td>\n",
       "      <td>66 - 74kg</td>\n",
       "      <td>GUENOT, Christophe</td>\n",
       "      <td>Men</td>\n",
       "      <td>FRA</td>\n",
       "      <td>France</td>\n",
       "      <td>M</td>\n",
       "      <td>Bronze</td>\n",
       "    </tr>\n",
       "    <tr>\n",
       "      <th>15429</th>\n",
       "      <td>Beijing</td>\n",
       "      <td>2008.0</td>\n",
       "      <td>Wrestling</td>\n",
       "      <td>Wrestling Gre-R</td>\n",
       "      <td>66 - 74kg</td>\n",
       "      <td>KVIRKELIA, Manuchar</td>\n",
       "      <td>Men</td>\n",
       "      <td>GEO</td>\n",
       "      <td>Georgia</td>\n",
       "      <td>M</td>\n",
       "      <td>Gold</td>\n",
       "    </tr>\n",
       "    <tr>\n",
       "      <th>15430</th>\n",
       "      <td>Beijing</td>\n",
       "      <td>2008.0</td>\n",
       "      <td>Wrestling</td>\n",
       "      <td>Wrestling Gre-R</td>\n",
       "      <td>55 - 60kg</td>\n",
       "      <td>RAHIMOV, Vitaliy</td>\n",
       "      <td>Men</td>\n",
       "      <td>AZE</td>\n",
       "      <td>Azerbaijan</td>\n",
       "      <td>M</td>\n",
       "      <td>Silver</td>\n",
       "    </tr>\n",
       "    <tr>\n",
       "      <th>15431</th>\n",
       "      <td>Beijing</td>\n",
       "      <td>2008.0</td>\n",
       "      <td>Wrestling</td>\n",
       "      <td>Wrestling Gre-R</td>\n",
       "      <td>60 - 66kg</td>\n",
       "      <td>GUENOT, Steeve</td>\n",
       "      <td>Men</td>\n",
       "      <td>FRA</td>\n",
       "      <td>France</td>\n",
       "      <td>M</td>\n",
       "      <td>Gold</td>\n",
       "    </tr>\n",
       "    <tr>\n",
       "      <th>15432</th>\n",
       "      <td>Beijing</td>\n",
       "      <td>2008.0</td>\n",
       "      <td>Wrestling</td>\n",
       "      <td>Wrestling Gre-R</td>\n",
       "      <td>96 - 120kg</td>\n",
       "      <td>LOPEZ, Mijain</td>\n",
       "      <td>Men</td>\n",
       "      <td>CUB</td>\n",
       "      <td>Cuba</td>\n",
       "      <td>M</td>\n",
       "      <td>Gold</td>\n",
       "    </tr>\n",
       "  </tbody>\n",
       "</table>\n",
       "<p>15433 rows × 11 columns</p>\n",
       "</div>"
      ],
      "text/plain": [
       "           City    Year      Sport       Discipline           Event  \\\n",
       "0      Montreal  1976.0   Aquatics           Diving  3m springboard   \n",
       "1      Montreal  1976.0   Aquatics           Diving  3m springboard   \n",
       "2      Montreal  1976.0   Aquatics           Diving  3m springboard   \n",
       "3      Montreal  1976.0   Aquatics           Diving  3m springboard   \n",
       "4      Montreal  1976.0   Aquatics           Diving    10m platform   \n",
       "...         ...     ...        ...              ...             ...   \n",
       "15428   Beijing  2008.0  Wrestling  Wrestling Gre-R       66 - 74kg   \n",
       "15429   Beijing  2008.0  Wrestling  Wrestling Gre-R       66 - 74kg   \n",
       "15430   Beijing  2008.0  Wrestling  Wrestling Gre-R       55 - 60kg   \n",
       "15431   Beijing  2008.0  Wrestling  Wrestling Gre-R       60 - 66kg   \n",
       "15432   Beijing  2008.0  Wrestling  Wrestling Gre-R      96 - 120kg   \n",
       "\n",
       "                        Athlete Gender Country_Code        Country  \\\n",
       "0               KÖHLER, Christa  Women          GDR   East Germany   \n",
       "1           KOSENKOV, Aleksandr    Men          URS   Soviet Union   \n",
       "2          BOGGS, Philip George    Men          USA  United States   \n",
       "3      CAGNOTTO, Giorgio Franco    Men          ITA          Italy   \n",
       "4        WILSON, Deborah Keplar  Women          USA  United States   \n",
       "...                         ...    ...          ...            ...   \n",
       "15428        GUENOT, Christophe    Men          FRA         France   \n",
       "15429       KVIRKELIA, Manuchar    Men          GEO        Georgia   \n",
       "15430          RAHIMOV, Vitaliy    Men          AZE     Azerbaijan   \n",
       "15431            GUENOT, Steeve    Men          FRA         France   \n",
       "15432             LOPEZ, Mijain    Men          CUB           Cuba   \n",
       "\n",
       "      Event_gender   Medal  \n",
       "0                W  Silver  \n",
       "1                M  Bronze  \n",
       "2                M    Gold  \n",
       "3                M  Silver  \n",
       "4                W  Bronze  \n",
       "...            ...     ...  \n",
       "15428            M  Bronze  \n",
       "15429            M    Gold  \n",
       "15430            M  Silver  \n",
       "15431            M    Gold  \n",
       "15432            M    Gold  \n",
       "\n",
       "[15433 rows x 11 columns]"
      ]
     },
     "execution_count": 30,
     "metadata": {},
     "output_type": "execute_result"
    }
   ],
   "source": [
    "df = pd.read_csv(r'C:\\Users\\HP\\Downloads\\Summer Olympic medals.csv', encoding='ISO-8859-1')\n",
    "df"
   ]
  },
  {
   "cell_type": "markdown",
   "id": "e8807460-e4f1-4896-ad78-abb54a343df5",
   "metadata": {},
   "source": [
    "## Data Preparation and Cleaning"
   ]
  },
  {
   "cell_type": "code",
   "execution_count": 31,
   "id": "0151b6dc-2aa0-4f36-a730-5ed2d130fa88",
   "metadata": {},
   "outputs": [
    {
     "data": {
      "text/plain": [
       "Index(['City', 'Year', 'Sport', 'Discipline', 'Event', 'Athlete', 'Gender',\n",
       "       'Country_Code', 'Country', 'Event_gender', 'Medal'],\n",
       "      dtype='object')"
      ]
     },
     "execution_count": 31,
     "metadata": {},
     "output_type": "execute_result"
    }
   ],
   "source": [
    "df.columns"
   ]
  },
  {
   "cell_type": "code",
   "execution_count": 32,
   "id": "42b485c7-c6a7-400d-b1c9-60d73d56b2e5",
   "metadata": {},
   "outputs": [
    {
     "data": {
      "text/plain": [
       "City                9\n",
       "Year                9\n",
       "Sport              28\n",
       "Discipline         41\n",
       "Event             293\n",
       "Athlete         11337\n",
       "Gender              2\n",
       "Country_Code      128\n",
       "Country           127\n",
       "Event_gender        3\n",
       "Medal               3\n",
       "dtype: int64"
      ]
     },
     "execution_count": 32,
     "metadata": {},
     "output_type": "execute_result"
    }
   ],
   "source": [
    "df.nunique()"
   ]
  },
  {
   "cell_type": "code",
   "execution_count": 33,
   "id": "3913ac1d-7057-4b92-8242-100d51ee6835",
   "metadata": {},
   "outputs": [
    {
     "name": "stdout",
     "output_type": "stream",
     "text": [
      "<class 'pandas.core.frame.DataFrame'>\n",
      "RangeIndex: 15433 entries, 0 to 15432\n",
      "Data columns (total 11 columns):\n",
      " #   Column        Non-Null Count  Dtype  \n",
      "---  ------        --------------  -----  \n",
      " 0   City          15316 non-null  object \n",
      " 1   Year          15316 non-null  float64\n",
      " 2   Sport         15316 non-null  object \n",
      " 3   Discipline    15316 non-null  object \n",
      " 4   Event         15316 non-null  object \n",
      " 5   Athlete       15316 non-null  object \n",
      " 6   Gender        15316 non-null  object \n",
      " 7   Country_Code  15316 non-null  object \n",
      " 8   Country       15316 non-null  object \n",
      " 9   Event_gender  15316 non-null  object \n",
      " 10  Medal         15316 non-null  object \n",
      "dtypes: float64(1), object(10)\n",
      "memory usage: 1.3+ MB\n"
     ]
    }
   ],
   "source": [
    "df.info()"
   ]
  },
  {
   "cell_type": "markdown",
   "id": "296245cb-135c-466f-a866-ca2ad8831420",
   "metadata": {},
   "source": [
    "### Handling Duplicates and missing values"
   ]
  },
  {
   "cell_type": "code",
   "execution_count": 34,
   "id": "f7a3fb45-5f33-4e99-a1c1-1a6931bf18ec",
   "metadata": {},
   "outputs": [
    {
     "data": {
      "text/plain": [
       "City            117\n",
       "Year            117\n",
       "Sport           117\n",
       "Discipline      117\n",
       "Event           117\n",
       "Athlete         117\n",
       "Gender          117\n",
       "Country_Code    117\n",
       "Country         117\n",
       "Event_gender    117\n",
       "Medal           117\n",
       "dtype: int64"
      ]
     },
     "execution_count": 34,
     "metadata": {},
     "output_type": "execute_result"
    }
   ],
   "source": [
    "df.isnull().sum()"
   ]
  },
  {
   "cell_type": "code",
   "execution_count": 35,
   "id": "13f29a84-4f00-4bb5-98d3-62eed1d789ee",
   "metadata": {},
   "outputs": [],
   "source": [
    "df = df.dropna(how = 'all')"
   ]
  },
  {
   "cell_type": "code",
   "execution_count": 36,
   "id": "d9f45df0-db5a-4ce0-951a-1149a49479e2",
   "metadata": {},
   "outputs": [
    {
     "data": {
      "text/plain": [
       "City            0\n",
       "Year            0\n",
       "Sport           0\n",
       "Discipline      0\n",
       "Event           0\n",
       "Athlete         0\n",
       "Gender          0\n",
       "Country_Code    0\n",
       "Country         0\n",
       "Event_gender    0\n",
       "Medal           0\n",
       "dtype: int64"
      ]
     },
     "execution_count": 36,
     "metadata": {},
     "output_type": "execute_result"
    }
   ],
   "source": [
    "df.isnull().sum()"
   ]
  },
  {
   "cell_type": "code",
   "execution_count": 37,
   "id": "a7aeaea8-6b10-4968-88c3-5b698a189b41",
   "metadata": {},
   "outputs": [
    {
     "data": {
      "text/plain": [
       "np.int64(1)"
      ]
     },
     "execution_count": 37,
     "metadata": {},
     "output_type": "execute_result"
    }
   ],
   "source": [
    "df.duplicated().sum()"
   ]
  },
  {
   "cell_type": "code",
   "execution_count": 38,
   "id": "e9638d62-77da-448f-b81a-0e94aae4cf75",
   "metadata": {},
   "outputs": [],
   "source": [
    "df = df.drop_duplicates()"
   ]
  },
  {
   "cell_type": "code",
   "execution_count": 39,
   "id": "794c514b-cc0a-4ebe-891b-1ede44bd4e2e",
   "metadata": {},
   "outputs": [
    {
     "data": {
      "text/plain": [
       "np.int64(0)"
      ]
     },
     "execution_count": 39,
     "metadata": {},
     "output_type": "execute_result"
    }
   ],
   "source": [
    "df.duplicated().sum()"
   ]
  },
  {
   "cell_type": "code",
   "execution_count": 40,
   "id": "f1668c27-8233-40ee-a54e-d74df554be75",
   "metadata": {},
   "outputs": [
    {
     "name": "stdout",
     "output_type": "stream",
     "text": [
      "<class 'pandas.core.frame.DataFrame'>\n",
      "Index: 15315 entries, 0 to 15432\n",
      "Data columns (total 11 columns):\n",
      " #   Column        Non-Null Count  Dtype \n",
      "---  ------        --------------  ----- \n",
      " 0   City          15315 non-null  object\n",
      " 1   Year          15315 non-null  int64 \n",
      " 2   Sport         15315 non-null  object\n",
      " 3   Discipline    15315 non-null  object\n",
      " 4   Event         15315 non-null  object\n",
      " 5   Athlete       15315 non-null  object\n",
      " 6   Gender        15315 non-null  object\n",
      " 7   Country_Code  15315 non-null  object\n",
      " 8   Country       15315 non-null  object\n",
      " 9   Event_gender  15315 non-null  object\n",
      " 10  Medal         15315 non-null  object\n",
      "dtypes: int64(1), object(10)\n",
      "memory usage: 1.4+ MB\n"
     ]
    }
   ],
   "source": [
    "df = df.astype({'Year':'int'})\n",
    "df.info()"
   ]
  },
  {
   "cell_type": "markdown",
   "id": "5852aaea-951b-4f27-8d2d-719385f7d2e8",
   "metadata": {},
   "source": [
    "## Data Exploration"
   ]
  },
  {
   "cell_type": "markdown",
   "id": "7ec479bc-91ae-407c-ba08-46e511f1269d",
   "metadata": {},
   "source": [
    "### Medals by country"
   ]
  },
  {
   "cell_type": "code",
   "execution_count": 12,
   "id": "867da62d-7662-4ab8-8e42-3a32764d9945",
   "metadata": {},
   "outputs": [
    {
     "data": {
      "text/plain": [
       "Country\n",
       "Afghanistan          1\n",
       "Algeria             14\n",
       "Argentina          153\n",
       "Armenia              9\n",
       "Australia          798\n",
       "                  ... \n",
       "Virgin Islands*      1\n",
       "West Germany       345\n",
       "Yugoslavia         278\n",
       "Zambia               2\n",
       "Zimbabwe            23\n",
       "Name: Medal, Length: 127, dtype: int64"
      ]
     },
     "execution_count": 12,
     "metadata": {},
     "output_type": "execute_result"
    }
   ],
   "source": [
    "con_medal = df.groupby('Country')['Medal'].count()\n",
    "con_medal"
   ]
  },
  {
   "cell_type": "markdown",
   "id": "1943b500-817e-4679-8ee1-631bb9e5f7b5",
   "metadata": {},
   "source": [
    "### top 10 countries by medals"
   ]
  },
  {
   "cell_type": "code",
   "execution_count": 25,
   "id": "8c9b9981-5674-49df-bad3-24ef10c9aaad",
   "metadata": {},
   "outputs": [
    {
     "data": {
      "image/png": "[encoded data removed]",
      "text/plain": [
       "<Figure size 700x300 with 1 Axes>"
      ]
     },
     "metadata": {},
     "output_type": "display_data"
    }
   ],
   "source": [
    "plt.figure(figsize=(7, 3))\n",
    "con_medal.head(10).plot(kind='bar', color='orange')\n",
    "plt.title(\"Top 10 Countries by Medal Count\")\n",
    "plt.xlabel(\"Country\")\n",
    "plt.ylabel(\"Total Medals\")\n",
    "plt.show()"
   ]
  },
  {
   "cell_type": "markdown",
   "id": "9342cce5-a719-4241-9e40-e8f94994295d",
   "metadata": {},
   "source": [
    "### Medals Won Over the Years"
   ]
  },
  {
   "cell_type": "code",
   "execution_count": 14,
   "id": "7615a417-4c2e-4742-b138-637bbecaa93a",
   "metadata": {},
   "outputs": [
    {
     "data": {
      "text/plain": [
       "Year\n",
       "1976.0    1305\n",
       "1980.0    1386\n",
       "1984.0    1459\n",
       "1988.0    1546\n",
       "1992.0    1705\n",
       "1996.0    1859\n",
       "2000.0    2015\n",
       "2004.0    1998\n",
       "2008.0    2042\n",
       "Name: Medal, dtype: int64"
      ]
     },
     "execution_count": 14,
     "metadata": {},
     "output_type": "execute_result"
    }
   ],
   "source": [
    "year_medal = df.groupby('Year')['Medal'].count()\n",
    "year_medal"
   ]
  },
  {
   "cell_type": "code",
   "execution_count": 24,
   "id": "8aab849f-57f3-46c4-a130-1f52822f6b3b",
   "metadata": {},
   "outputs": [
    {
     "data": {
      "image/png": "[encoded data removed]",
      "text/plain": [
       "<Figure size 700x300 with 1 Axes>"
      ]
     },
     "metadata": {},
     "output_type": "display_data"
    }
   ],
   "source": [
    "plt.figure(figsize=(7, 3))\n",
    "plt.plot(year_medal.index, year_medal.values,marker='o', linestyle='-', color='b')\n",
    "plt.title(\"Total Medals Won Over the Years\")\n",
    "plt.xlabel(\"Year\")\n",
    "plt.ylabel(\"Total Medals\")\n",
    "plt.grid(True)\n",
    "plt.show()"
   ]
  },
  {
   "cell_type": "markdown",
   "id": "d00e7feb-0b2a-48c3-82e2-aeeeb65e542d",
   "metadata": {},
   "source": [
    "### Gender distribution in events"
   ]
  },
  {
   "cell_type": "code",
   "execution_count": 48,
   "id": "6492abc0-584a-4acc-a85d-602428e9a6dd",
   "metadata": {},
   "outputs": [
    {
     "data": {
      "text/plain": [
       "Gender\n",
       "Men      9388\n",
       "Women    5928\n",
       "Name: count, dtype: int64"
      ]
     },
     "execution_count": 48,
     "metadata": {},
     "output_type": "execute_result"
    }
   ],
   "source": [
    "gn = df['Gender'].value_counts()\n",
    "gn"
   ]
  },
  {
   "cell_type": "code",
   "execution_count": 46,
   "id": "8b1c572e-2b64-41cc-b696-aded97c12ff5",
   "metadata": {},
   "outputs": [
    {
     "data": {
      "image/png": "[encoded data removed]",
      "text/plain": [
       "<Figure size 600x400 with 1 Axes>"
      ]
     },
     "metadata": {},
     "output_type": "display_data"
    }
   ],
   "source": [
    "plt.figure(figsize=(6, 4))\n",
    "gn.plot(kind='pie', autopct='%1.1f%%',\n",
    "colors=['#ff9999','#66b3ff'], explode=[0.05, 0])\n",
    "plt.title(\"Gender Distribution in Olympics Events\")\n",
    "plt.ylabel('')\n",
    "plt.show()"
   ]
  },
  {
   "cell_type": "markdown",
   "id": "80c3f2d5-e9c1-4077-98a3-562eefd66b92",
   "metadata": {},
   "source": [
    "### Top Athletes with Most Medals"
   ]
  },
  {
   "cell_type": "code",
   "execution_count": 27,
   "id": "e5a81ff3-f989-4623-9c44-7eca3ed94424",
   "metadata": {},
   "outputs": [
    {
     "data": {
      "text/plain": [
       "Athlete\n",
       "PHELPS, Michael        16\n",
       "ANDRIANOV, Nikolay     12\n",
       "FISCHER, Birgit        12\n",
       "NEMOV, Alexei          12\n",
       "THOMPSON, Jenny        12\n",
       "                       ..\n",
       "ZVONAREVA, Vera         1\n",
       "ZVYAGINTSEV, Viktor     1\n",
       "ZWEHL, Julia            1\n",
       "ZWERING, Klaas-Erik     1\n",
       "ZUEVA, Natalia          1\n",
       "Name: Medal, Length: 11337, dtype: int64"
      ]
     },
     "execution_count": 27,
     "metadata": {},
     "output_type": "execute_result"
    }
   ],
   "source": [
    "at = df.groupby('Athlete')['Medal'].count().sort_values(ascending=False)\n",
    "at"
   ]
  },
  {
   "cell_type": "code",
   "execution_count": 28,
   "id": "e96fd35b-ff3c-44de-8a55-7535f83bed00",
   "metadata": {},
   "outputs": [
    {
     "data": {
      "image/png": "[encoded data removed]",
      "text/plain": [
       "<Figure size 700x300 with 1 Axes>"
      ]
     },
     "metadata": {},
     "output_type": "display_data"
    }
   ],
   "source": [
    "plt.figure(figsize=(7, 3))\n",
    "at.head(10).plot(kind='bar', color='silver')\n",
    "plt.title(\"Top 10 Athletes by Medal Count\")\n",
    "plt.xlabel(\"Athlete\")\n",
    "plt.ylabel(\"Total Medals\")\n",
    "plt.show()"
   ]
  },
  {
   "cell_type": "markdown",
   "id": "8b58ab5a-c262-4f9d-9cee-d5c01eea244b",
   "metadata": {},
   "source": [
    "### Predictive Analysis"
   ]
  },
  {
   "cell_type": "code",
   "execution_count": 15,
   "id": "a360ef63-1875-4e75-8592-0985c42e0175",
   "metadata": {},
   "outputs": [],
   "source": [
    "from sklearn.model_selection import train_test_split\n",
    "from sklearn.preprocessing import LabelEncoder\n",
    "from sklearn.linear_model import LogisticRegression\n",
    "from sklearn.metrics import accuracy_score, confusion_matrix,classification_report"
   ]
  },
  {
   "cell_type": "markdown",
   "id": "c6852175-8e5d-437f-a865-c2b857109773",
   "metadata": {},
   "source": [
    "### Encode categorical variables using LabelEncoder"
   ]
  },
  {
   "cell_type": "code",
   "execution_count": 16,
   "id": "6b93ec47-4339-4118-95f2-e363eed6524f",
   "metadata": {},
   "outputs": [],
   "source": [
    "le = LabelEncoder()\n",
    "df['Country_Code'] = le.fit_transform(df['Country_Code'])\n",
    "df['Sport'] = le.fit_transform(df['Sport'])\n",
    "df['Gender'] = le.fit_transform(df['Gender'])\n",
    "df['Event_gender'] =le.fit_transform(df['Event_gender'])\n",
    "df['Medal'] = df['Medal'].map({'Gold': 1,'Silver': 1, 'Bronze': 1})"
   ]
  },
  {
   "cell_type": "markdown",
   "id": "e2d2bb9b-138e-46ce-ae12-30d6f0a0226b",
   "metadata": {},
   "source": [
    "### Features and target"
   ]
  },
  {
   "cell_type": "code",
   "execution_count": 17,
   "id": "a7f3b7c8-4839-44c1-ac30-9e63296272b3",
   "metadata": {},
   "outputs": [],
   "source": [
    "X = df[['Country_Code', 'Sport', 'Gender','Event_gender']]\n",
    "y = df['Medal']"
   ]
  },
  {
   "cell_type": "markdown",
   "id": "405477ee-e9c6-486b-9799-20baf4d2d6ff",
   "metadata": {},
   "source": [
    "### Split the dataset into training and testing sets"
   ]
  },
  {
   "cell_type": "code",
   "execution_count": 18,
   "id": "ccd78c4c-5cb7-4c95-a527-4650f664332e",
   "metadata": {},
   "outputs": [],
   "source": [
    "X_train, X_test, y_train, y_test = train_test_split(X, y,\n",
    "test_size=0.3, random_state=42)"
   ]
  },
  {
   "cell_type": "markdown",
   "id": "f25531dc-9551-4082-a974-8e6d11d9d787",
   "metadata": {},
   "source": [
    "### Initialize and train a logistic regression model"
   ]
  },
  {
   "cell_type": "code",
   "execution_count": null,
   "id": "41bbd852-4c5e-4001-98c9-03976e8e1fc9",
   "metadata": {},
   "outputs": [],
   "source": [
    "model = LogisticRegression()\n",
    "model.fit(X_train, y_train)"
   ]
  },
  {
   "cell_type": "markdown",
   "id": "17a0f58c-4092-4b4b-9593-b5fdff72d450",
   "metadata": {},
   "source": [
    "### Predict on the test data"
   ]
  },
  {
   "cell_type": "code",
   "execution_count": null,
   "id": "2bf17d89-7886-44a0-bab1-1109f21d9c37",
   "metadata": {},
   "outputs": [],
   "source": [
    "y_pred = model.predict(X_test)"
   ]
  },
  {
   "cell_type": "markdown",
   "id": "db7b0d39-c66d-444a-b902-af69198479b8",
   "metadata": {},
   "source": [
    "### Model evaluation"
   ]
  },
  {
   "cell_type": "code",
   "execution_count": null,
   "id": "e0c08b81-dd09-4d54-b08e-94e1286864f8",
   "metadata": {},
   "outputs": [],
   "source": [
    "print(\"Accuracy Score:\", accuracy_score(y_test, y_pred))\n",
    "print(\"Confusion Matrix:\\n\", confusion_matrix(y_test, y_pred))\n",
    "print(\"Classification Report:\\n\", classification_report(y_test,\n",
    "y_pred))"
   ]
  },
  {
   "cell_type": "markdown",
   "id": "1c01efb3-ea11-4a5e-8ea2-876768158cf1",
   "metadata": {},
   "source": [
    "# Insights:"
   ]
  },
  {
   "cell_type": "markdown",
   "id": "ed23730a-bf3e-4c4b-bf12-dd24fc87b9e9",
   "metadata": {},
   "source": [
    "1.Australia emerged as the top-performing country in this timeframe, securing the most medals overallfollowed by Argentina.\n",
    "\n",
    "2.The 2008 Summer Olympics recorded the highest number of medals won, indicating a significant level of competition and participation during that year.\n",
    "\n",
    "3.Across the analyzed period, male athletes won more medals compared to female athletes, reflecting a notable gender disparity in the competitions.\n",
    "\n",
    "4.Michael Phelps stood out as the most successful athlete, dominating the medal tally with his extraordinary performances."
   ]
  },
  {
   "cell_type": "code",
   "execution_count": null,
   "id": "ad1f4491-69a8-4bf8-9787-07023ca82eb9",
   "metadata": {},
   "outputs": [],
   "source": []
  }
 ],
 "metadata": {
  "kernelspec": {
   "display_name": "Python 3 (ipykernel)",
   "language": "python",
   "name": "python3"
  },
  "language_info": {
   "codemirror_mode": {
    "name": "ipython",
    "version": 3
   },
   "file_extension": ".py",
   "mimetype": "text/x-python",
   "name": "python",
   "nbconvert_exporter": "python",
   "pygments_lexer": "ipython3",
   "version": "3.12.4"
  }
 },
 "nbformat": 4,
 "nbformat_minor": 5
}
